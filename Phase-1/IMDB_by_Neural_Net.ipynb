{
  "nbformat": 4,
  "nbformat_minor": 0,
  "metadata": {
    "colab": {
      "name": "IMDB by Neural Net.ipynb",
      "provenance": [],
      "collapsed_sections": []
    },
    "kernelspec": {
      "name": "python3",
      "display_name": "Python 3"
    },
    "language_info": {
      "name": "python"
    },
    "accelerator": "GPU"
  },
  "cells": [
    {
      "cell_type": "code",
      "metadata": {
        "id": "d83yVTSHl-ul"
      },
      "source": [
        "import numpy as np\n",
        "import pandas as pd\n",
        "import seaborn as sns\n",
        "import matplotlib.pyplot as plt\n",
        "import nltk\n",
        "\n",
        "from sklearn.feature_extraction.text import CountVectorizer\n",
        "from sklearn.feature_extraction.text import TfidfVectorizer\n",
        "from sklearn.preprocessing import LabelBinarizer\n",
        "\n",
        "from bs4 import BeautifulSoup\n",
        "import spacy\n",
        "import re,string,unicodedata\n",
        "\n",
        "from sklearn.linear_model import LogisticRegression,SGDClassifier\n",
        "from sklearn.svm import SVC\n",
        "from sklearn.metrics import classification_report,confusion_matrix,accuracy_score"
      ],
      "execution_count": null,
      "outputs": []
    },
    {
      "cell_type": "code",
      "metadata": {
        "colab": {
          "base_uri": "https://localhost:8080/",
          "height": 262
        },
        "id": "3ylv-n8NmXmH",
        "outputId": "d394209a-9390-4aee-9423-32c05afcd667"
      },
      "source": [
        "from google.colab import drive\n",
        "drive.mount('/content/gdrive')\n",
        "top_data_df = pd.read_csv('/content/gdrive/MyDrive/IMDB Dataset.csv')\n",
        "print(\"Columns in the original dataset:\\n\")\n",
        "top_data_df.head()\n",
        "top_data_df['sentiment'] = top_data_df['sentiment'].replace({'positive':1, 'negative':0}).astype(int) \n",
        "top_data_df.head()"
      ],
      "execution_count": null,
      "outputs": [
        {
          "output_type": "stream",
          "text": [
            "Drive already mounted at /content/gdrive; to attempt to forcibly remount, call drive.mount(\"/content/gdrive\", force_remount=True).\n",
            "Columns in the original dataset:\n",
            "\n"
          ],
          "name": "stdout"
        },
        {
          "output_type": "execute_result",
          "data": {
            "text/html": [
              "<div>\n",
              "<style scoped>\n",
              "    .dataframe tbody tr th:only-of-type {\n",
              "        vertical-align: middle;\n",
              "    }\n",
              "\n",
              "    .dataframe tbody tr th {\n",
              "        vertical-align: top;\n",
              "    }\n",
              "\n",
              "    .dataframe thead th {\n",
              "        text-align: right;\n",
              "    }\n",
              "</style>\n",
              "<table border=\"1\" class=\"dataframe\">\n",
              "  <thead>\n",
              "    <tr style=\"text-align: right;\">\n",
              "      <th></th>\n",
              "      <th>review</th>\n",
              "      <th>sentiment</th>\n",
              "    </tr>\n",
              "  </thead>\n",
              "  <tbody>\n",
              "    <tr>\n",
              "      <th>0</th>\n",
              "      <td>One of the other reviewers has mentioned that ...</td>\n",
              "      <td>1</td>\n",
              "    </tr>\n",
              "    <tr>\n",
              "      <th>1</th>\n",
              "      <td>A wonderful little production. &lt;br /&gt;&lt;br /&gt;The...</td>\n",
              "      <td>1</td>\n",
              "    </tr>\n",
              "    <tr>\n",
              "      <th>2</th>\n",
              "      <td>I thought this was a wonderful way to spend ti...</td>\n",
              "      <td>1</td>\n",
              "    </tr>\n",
              "    <tr>\n",
              "      <th>3</th>\n",
              "      <td>Basically there's a family where a little boy ...</td>\n",
              "      <td>0</td>\n",
              "    </tr>\n",
              "    <tr>\n",
              "      <th>4</th>\n",
              "      <td>Petter Mattei's \"Love in the Time of Money\" is...</td>\n",
              "      <td>1</td>\n",
              "    </tr>\n",
              "  </tbody>\n",
              "</table>\n",
              "</div>"
            ],
            "text/plain": [
              "                                              review  sentiment\n",
              "0  One of the other reviewers has mentioned that ...          1\n",
              "1  A wonderful little production. <br /><br />The...          1\n",
              "2  I thought this was a wonderful way to spend ti...          1\n",
              "3  Basically there's a family where a little boy ...          0\n",
              "4  Petter Mattei's \"Love in the Time of Money\" is...          1"
            ]
          },
          "metadata": {
            "tags": []
          },
          "execution_count": 143
        }
      ]
    },
    {
      "cell_type": "code",
      "metadata": {
        "colab": {
          "base_uri": "https://localhost:8080/",
          "height": 367
        },
        "id": "M200gsI6mXpB",
        "outputId": "3a1019d0-e3ed-4777-eb42-8ef4ec610881"
      },
      "source": [
        "import matplotlib.pyplot as plt \n",
        "\n",
        "print(\"Number of rows per star rating:\")\n",
        "print(top_data_df['sentiment'].value_counts())\n",
        "\n",
        "# Plotting the sentiment distribution\n",
        "plt.figure()\n",
        "pd.value_counts(top_data_df['sentiment']).plot.bar(title=\"Sentiment distribution in df\")\n",
        "plt.xlabel(\"Sentiment\")\n",
        "plt.ylabel(\"No. of rows in df\")\n",
        "plt.show()"
      ],
      "execution_count": null,
      "outputs": [
        {
          "output_type": "stream",
          "text": [
            "Number of rows per star rating:\n",
            "1    25000\n",
            "0    25000\n",
            "Name: sentiment, dtype: int64\n"
          ],
          "name": "stdout"
        },
        {
          "output_type": "display_data",
          "data": {
            "image/png": "[encoded data removed]",
            "text/plain": [
              "<Figure size 432x288 with 1 Axes>"
            ]
          },
          "metadata": {
            "tags": [],
            "needs_background": "light"
          }
        }
      ]
    },
    {
      "cell_type": "code",
      "metadata": {
        "colab": {
          "base_uri": "https://localhost:8080/",
          "height": 438
        },
        "id": "ur8YsekEmXrQ",
        "outputId": "d9556bc2-33c2-4180-9d76-167513b156fc"
      },
      "source": [
        "# Function to retrieve top few number of each category\n",
        "def get_top_data(top_n = 5000):\n",
        "    top_data_df_positive = top_data_df[top_data_df['sentiment'] == 1].head(top_n)\n",
        "    top_data_df_negative = top_data_df[top_data_df['sentiment'] == 0].head(top_n)\n",
        "    top_data_df_small = pd.concat([top_data_df_positive, top_data_df_negative])\n",
        "    return top_data_df_small\n",
        "\n",
        "# Function call to get the top 10000 from each sentiment\n",
        "top_data_df_small = get_top_data(top_n=5000)\n",
        "\n",
        "# After selecting top few samples of each sentiment\n",
        "print(\"After segregating and taking equal number of rows for each sentiment:\")\n",
        "print(top_data_df_small['sentiment'].value_counts())\n",
        "top_data_df_small.head(10)"
      ],
      "execution_count": null,
      "outputs": [
        {
          "output_type": "stream",
          "text": [
            "After segregating and taking equal number of rows for each sentiment:\n",
            "1    5000\n",
            "0    5000\n",
            "Name: sentiment, dtype: int64\n"
          ],
          "name": "stdout"
        },
        {
          "output_type": "execute_result",
          "data": {
            "text/html": [
              "<div>\n",
              "<style scoped>\n",
              "    .dataframe tbody tr th:only-of-type {\n",
              "        vertical-align: middle;\n",
              "    }\n",
              "\n",
              "    .dataframe tbody tr th {\n",
              "        vertical-align: top;\n",
              "    }\n",
              "\n",
              "    .dataframe thead th {\n",
              "        text-align: right;\n",
              "    }\n",
              "</style>\n",
              "<table border=\"1\" class=\"dataframe\">\n",
              "  <thead>\n",
              "    <tr style=\"text-align: right;\">\n",
              "      <th></th>\n",
              "      <th>review</th>\n",
              "      <th>sentiment</th>\n",
              "    </tr>\n",
              "  </thead>\n",
              "  <tbody>\n",
              "    <tr>\n",
              "      <th>0</th>\n",
              "      <td>One of the other reviewers has mentioned that ...</td>\n",
              "      <td>1</td>\n",
              "    </tr>\n",
              "    <tr>\n",
              "      <th>1</th>\n",
              "      <td>A wonderful little production. &lt;br /&gt;&lt;br /&gt;The...</td>\n",
              "      <td>1</td>\n",
              "    </tr>\n",
              "    <tr>\n",
              "      <th>2</th>\n",
              "      <td>I thought this was a wonderful way to spend ti...</td>\n",
              "      <td>1</td>\n",
              "    </tr>\n",
              "    <tr>\n",
              "      <th>4</th>\n",
              "      <td>Petter Mattei's \"Love in the Time of Money\" is...</td>\n",
              "      <td>1</td>\n",
              "    </tr>\n",
              "    <tr>\n",
              "      <th>5</th>\n",
              "      <td>Probably my all-time favorite movie, a story o...</td>\n",
              "      <td>1</td>\n",
              "    </tr>\n",
              "    <tr>\n",
              "      <th>6</th>\n",
              "      <td>I sure would like to see a resurrection of a u...</td>\n",
              "      <td>1</td>\n",
              "    </tr>\n",
              "    <tr>\n",
              "      <th>9</th>\n",
              "      <td>If you like original gut wrenching laughter yo...</td>\n",
              "      <td>1</td>\n",
              "    </tr>\n",
              "    <tr>\n",
              "      <th>14</th>\n",
              "      <td>This a fantastic movie of three prisoners who ...</td>\n",
              "      <td>1</td>\n",
              "    </tr>\n",
              "    <tr>\n",
              "      <th>16</th>\n",
              "      <td>Some films just simply should not be remade. T...</td>\n",
              "      <td>1</td>\n",
              "    </tr>\n",
              "    <tr>\n",
              "      <th>18</th>\n",
              "      <td>I remember this film,it was the first film i h...</td>\n",
              "      <td>1</td>\n",
              "    </tr>\n",
              "  </tbody>\n",
              "</table>\n",
              "</div>"
            ],
            "text/plain": [
              "                                               review  sentiment\n",
              "0   One of the other reviewers has mentioned that ...          1\n",
              "1   A wonderful little production. <br /><br />The...          1\n",
              "2   I thought this was a wonderful way to spend ti...          1\n",
              "4   Petter Mattei's \"Love in the Time of Money\" is...          1\n",
              "5   Probably my all-time favorite movie, a story o...          1\n",
              "6   I sure would like to see a resurrection of a u...          1\n",
              "9   If you like original gut wrenching laughter yo...          1\n",
              "14  This a fantastic movie of three prisoners who ...          1\n",
              "16  Some films just simply should not be remade. T...          1\n",
              "18  I remember this film,it was the first film i h...          1"
            ]
          },
          "metadata": {
            "tags": []
          },
          "execution_count": 145
        }
      ]
    },
    {
      "cell_type": "code",
      "metadata": {
        "id": "fhv83tOSmXuH"
      },
      "source": [
        "# Removing the stop words\n",
        "#from gensim.parsing.preprocessing import remove_stopwords\n",
        "#print(remove_stopwords(\"Restaurant had a really good service!!\"))\n",
        "#print(remove_stopwords(\"I did not like the food!!\"))\n",
        "#print(remove_stopwords(\"This product is not good!!\"))"
      ],
      "execution_count": null,
      "outputs": []
    },
    {
      "cell_type": "code",
      "metadata": {
        "colab": {
          "base_uri": "https://localhost:8080/"
        },
        "id": "ohnWJNgqmXwj",
        "outputId": "9b5396fe-a448-4c18-8e84-70b8f26696d9"
      },
      "source": [
        "from gensim.utils import simple_preprocess\n",
        "# Tokenize the text column to get the new column 'tokenized_text'\n",
        "top_data_df_small['tokenized_text'] = [simple_preprocess(line, deacc=True) for line in top_data_df_small['review']] \n",
        "print(top_data_df_small['tokenized_text'].head(10))"
      ],
      "execution_count": null,
      "outputs": [
        {
          "output_type": "stream",
          "text": [
            "0     [one, of, the, other, reviewers, has, mentione...\n",
            "1     [wonderful, little, production, br, br, the, f...\n",
            "2     [thought, this, was, wonderful, way, to, spend...\n",
            "4     [petter, mattei, love, in, the, time, of, mone...\n",
            "5     [probably, my, all, time, favorite, movie, sto...\n",
            "6     [sure, would, like, to, see, resurrection, of,...\n",
            "9     [if, you, like, original, gut, wrenching, laug...\n",
            "14    [this, fantastic, movie, of, three, prisoners,...\n",
            "16    [some, films, just, simply, should, not, be, r...\n",
            "18    [remember, this, film, it, was, the, first, fi...\n",
            "Name: tokenized_text, dtype: object\n"
          ],
          "name": "stdout"
        }
      ]
    },
    {
      "cell_type": "code",
      "metadata": {
        "colab": {
          "base_uri": "https://localhost:8080/"
        },
        "id": "tAL_uwcImXzm",
        "outputId": "42df9256-104e-4817-8bd3-1c5a5db2ce42"
      },
      "source": [
        "from gensim.parsing.porter import PorterStemmer\n",
        "porter_stemmer = PorterStemmer()\n",
        "# Get the stemmed_tokens\n",
        "top_data_df_small['stemmed_tokens'] = [[porter_stemmer.stem(word) for word in tokens] for tokens in top_data_df_small['tokenized_text'] ]\n",
        "top_data_df_small['stemmed_tokens'].head(10)"
      ],
      "execution_count": null,
      "outputs": [
        {
          "output_type": "execute_result",
          "data": {
            "text/plain": [
              "0     [on, of, the, other, review, ha, mention, that...\n",
              "1     [wonder, littl, product, br, br, the, film, te...\n",
              "2     [thought, thi, wa, wonder, wai, to, spend, tim...\n",
              "4     [petter, mattei, love, in, the, time, of, mone...\n",
              "5     [probabl, my, all, time, favorit, movi, stori,...\n",
              "6     [sure, would, like, to, see, resurrect, of, up...\n",
              "9     [if, you, like, origin, gut, wrench, laughter,...\n",
              "14    [thi, fantast, movi, of, three, prison, who, b...\n",
              "16    [some, film, just, simpli, should, not, be, re...\n",
              "18    [rememb, thi, film, it, wa, the, first, film, ...\n",
              "Name: stemmed_tokens, dtype: object"
            ]
          },
          "metadata": {
            "tags": []
          },
          "execution_count": 148
        }
      ]
    },
    {
      "cell_type": "code",
      "metadata": {
        "colab": {
          "base_uri": "https://localhost:8080/"
        },
        "id": "EjSpDdb5mX1s",
        "outputId": "ab91b8f2-2174-4a21-ec27-5557591bb77b"
      },
      "source": [
        "from sklearn.model_selection import train_test_split\n",
        "# Train Test Split Function\n",
        "def split_train_test(top_data_df_small, test_size=0.2, shuffle_state=True):\n",
        "    X_train, X_test, Y_train, Y_test = train_test_split(top_data_df_small[['stemmed_tokens']], \n",
        "                                                        top_data_df_small['sentiment'], \n",
        "                                                        shuffle=shuffle_state,\n",
        "                                                        test_size=test_size, \n",
        "                                                        random_state=15)\n",
        "    print(\"Value counts for Train sentiments\")\n",
        "    print(Y_train.value_counts())\n",
        "    print(\"Value counts for Test sentiments\")\n",
        "    print(Y_test.value_counts())\n",
        "    print(type(X_train))\n",
        "    print(type(Y_train))\n",
        "    X_train = X_train.reset_index()\n",
        "    X_test = X_test.reset_index()\n",
        "    Y_train = Y_train.to_frame()\n",
        "    Y_train = Y_train.reset_index()\n",
        "    Y_test = Y_test.to_frame()\n",
        "    Y_test = Y_test.reset_index()\n",
        "    print(X_train.head())\n",
        "    return X_train, X_test, Y_train, Y_test\n",
        "\n",
        "# Call the train_test_split\n",
        "X_train, X_test, Y_train, Y_test = split_train_test(top_data_df_small)"
      ],
      "execution_count": null,
      "outputs": [
        {
          "output_type": "stream",
          "text": [
            "Value counts for Train sentiments\n",
            "0    4012\n",
            "1    3988\n",
            "Name: sentiment, dtype: int64\n",
            "Value counts for Test sentiments\n",
            "1    1012\n",
            "0     988\n",
            "Name: sentiment, dtype: int64\n",
            "<class 'pandas.core.frame.DataFrame'>\n",
            "<class 'pandas.core.series.Series'>\n",
            "   index                                     stemmed_tokens\n",
            "0   1863  [the, origin, femal, convict, scorpion, is, an...\n",
            "1    350  [man, with, the, scream, brain, certainli, isn...\n",
            "2   2544  [well, now, here, the, thing, for, thi, movi, ...\n",
            "3   8046  [total, agre, with, the, other, poster, nemesi...\n",
            "4   4074  [the, idea, of, bring, dracula, to, contempora...\n"
          ],
          "name": "stdout"
        }
      ]
    },
    {
      "cell_type": "code",
      "metadata": {
        "colab": {
          "base_uri": "https://localhost:8080/"
        },
        "id": "-BQkXj8XmX40",
        "outputId": "f77470e6-9225-4216-a990-dcd48af86050"
      },
      "source": [
        "import torch.nn as nn\n",
        "import torch.nn.functional as F\n",
        "import torch.optim as optim\n",
        "\n",
        "import torch\n",
        "# Use cuda if present\n",
        "device = torch.device(\"cuda\" if torch.cuda.is_available() else \"cpu\")\n",
        "print(\"Device available for running: \")\n",
        "print(device)"
      ],
      "execution_count": null,
      "outputs": [
        {
          "output_type": "stream",
          "text": [
            "Device available for running: \n",
            "cuda\n"
          ],
          "name": "stdout"
        }
      ]
    },
    {
      "cell_type": "code",
      "metadata": {
        "id": "rWo3NQeTmX6y"
      },
      "source": [
        "\n",
        "class FeedforwardNeuralNetModel(nn.Module):\n",
        "    def __init__(self, input_dim, hidden_dim, output_dim):\n",
        "        super(FeedforwardNeuralNetModel, self).__init__()\n",
        "        \n",
        "        # Linear function 1: vocab_size --> 500\n",
        "        self.fc1 = nn.Linear(input_dim, hidden_dim) \n",
        "        # Non-linearity 1\n",
        "        self.relu1 = nn.ReLU()\n",
        "\n",
        "        # Linear function 2: 500 --> 500\n",
        "        self.fc2 = nn.Linear(hidden_dim, hidden_dim) \n",
        "        # Non-linearity 2\n",
        "        self.relu2 = nn.ReLU()\n",
        "\n",
        "        # Linear function 3: 500 --> 500\n",
        "        self.fc3 = nn.Linear(hidden_dim, hidden_dim) \n",
        "        # Non-linearity 3\n",
        "        self.relu3 = nn.ReLU()\n",
        "\n",
        "        # Linear function 4: 500 --> 500\n",
        "        self.fc4 = nn.Linear(hidden_dim, hidden_dim) \n",
        "        # Non-linearity 4\n",
        "        self.relu4 = nn.ReLU()\n",
        "\n",
        "        # Linear function 5 (readout): 500 --> 3\n",
        "        self.fc5 = nn.Linear(hidden_dim, output_dim)  \n",
        "\n",
        "    def forward(self, x):\n",
        "        # Linear function 1\n",
        "        out = self.fc1(x)\n",
        "        # Non-linearity 1\n",
        "        out = self.relu1(out)\n",
        "\n",
        "        # Linear function 2\n",
        "        out = self.fc2(out)\n",
        "        # Non-linearity 2\n",
        "        out = self.relu2(out)\n",
        "\n",
        "        # Linear function 3\n",
        "        out = self.fc3(out)\n",
        "        # Non-linearity 3\n",
        "        out = self.relu3(out)\n",
        "\n",
        "        # Linear function 4\n",
        "        out = self.fc4(out)\n",
        "        # Non-linearity 4\n",
        "        out = self.relu4(out)\n",
        "\n",
        "        # Linear function 5 (readout)\n",
        "        out = self.fc5(out)\n",
        "\n",
        "        return F.softmax(out, dim=1)\n"
      ],
      "execution_count": null,
      "outputs": []
    },
    {
      "cell_type": "code",
      "metadata": {
        "colab": {
          "base_uri": "https://localhost:8080/"
        },
        "id": "IkFK8WOsmX9U",
        "outputId": "f3f5d7e9-a3cf-4f56-8b31-4062683cdd53"
      },
      "source": [
        "from gensim import corpora\n",
        "# Function to return the dictionary either with padding word or without padding\n",
        "def make_dict(top_data_df_small, padding=True):\n",
        "    if padding:\n",
        "        print(\"Dictionary with padded token added\")\n",
        "        review_dict = corpora.Dictionary([['pad']])\n",
        "        review_dict.add_documents(top_data_df_small['stemmed_tokens'])\n",
        "    else:\n",
        "        print(\"Dictionary without padding\")\n",
        "        review_dict = corpora.Dictionary(top_data_df_small['stemmed_tokens'])\n",
        "    return review_dict\n",
        "\n",
        "# Make the dictionary without padding for the basic models\n",
        "review_dict = make_dict(top_data_df_small, padding=False)"
      ],
      "execution_count": null,
      "outputs": [
        {
          "output_type": "stream",
          "text": [
            "Dictionary without padding\n"
          ],
          "name": "stdout"
        }
      ]
    },
    {
      "cell_type": "code",
      "metadata": {
        "id": "wTXFqrxYmX_4"
      },
      "source": [
        "VOCAB_SIZE = len(review_dict)\n",
        "NUM_LABELS = 2\n",
        "\n",
        "# Function to make bow vector to be used as input to network\n",
        "def make_bow_vector(review_dict, sentence):\n",
        "    vec = torch.zeros(VOCAB_SIZE, dtype=torch.float64, device=device)\n",
        "    for word in sentence:\n",
        "        vec[review_dict.token2id[word]] += 1\n",
        "    return vec.view(1, -1).float()"
      ],
      "execution_count": null,
      "outputs": []
    },
    {
      "cell_type": "code",
      "metadata": {
        "id": "-4xRaEOhmYCd"
      },
      "source": [
        "# Function to get the output tensor\n",
        "def make_target(label):\n",
        "    if label == 1:\n",
        "        return torch.tensor([1], dtype=torch.long, device=device)\n",
        "    elif label == 0:\n",
        "        return torch.tensor([0], dtype=torch.long, device=device)\n",
        "  "
      ],
      "execution_count": null,
      "outputs": []
    },
    {
      "cell_type": "code",
      "metadata": {
        "id": "ryXoK3K6mYFG",
        "colab": {
          "base_uri": "https://localhost:8080/"
        },
        "outputId": "1cd8e403-81fc-439c-819c-9865d82bb96e"
      },
      "source": [
        "VOCAB_SIZE = len(review_dict)\n",
        "\n",
        "print(VOCAB_SIZE)\n",
        "input_dim = VOCAB_SIZE\n",
        "hidden_dim = 500\n",
        "output_dim = 2\n",
        "num_epochs = 10\n",
        "\n",
        "ff_nn_bow_model = FeedforwardNeuralNetModel(input_dim, hidden_dim, output_dim)\n",
        "ff_nn_bow_model.to(device)\n",
        "\n",
        "loss_function = nn.CrossEntropyLoss()\n",
        "optimizer = optim.SGD(ff_nn_bow_model.parameters(), lr=0.001)"
      ],
      "execution_count": null,
      "outputs": [
        {
          "output_type": "stream",
          "text": [
            "34954\n"
          ],
          "name": "stdout"
        }
      ]
    },
    {
      "cell_type": "code",
      "metadata": {
        "id": "gqvTLFjxmYHZ",
        "colab": {
          "base_uri": "https://localhost:8080/"
        },
        "outputId": "77956ac9-7a44-452f-9058-0a838b03daa1"
      },
      "source": [
        "# Open the file for writing loss\n",
        "ffnn_loss_file_name = '/content/gdrive/MyDrive/ffnn_bow_class_big_loss_500_epoch_100_less_lr.csv'\n",
        "f = open(ffnn_loss_file_name,'w')\n",
        "f.write('iter, loss')\n",
        "f.write('\\n')\n",
        "losses = []\n",
        "iter = 0\n",
        "# Start training\n",
        "for epoch in range(num_epochs):\n",
        "    if (epoch+1) % 5 == 0:\n",
        "        print(\"Epoch completed: \" + str(epoch+1))\n",
        "    train_loss = 0\n",
        "    for index, row in X_train.iterrows():\n",
        "        # Clearing the accumulated gradients\n",
        "        optimizer.zero_grad()\n",
        "\n",
        "        # Make the bag of words vector for stemmed tokens \n",
        "        bow_vec = make_bow_vector(review_dict, row['stemmed_tokens'])\n",
        "       \n",
        "        # Forward pass to get output\n",
        "        probs = ff_nn_bow_model(bow_vec)\n",
        "\n",
        "        # Get the target label\n",
        "        target = make_target(Y_train['sentiment'][index])\n",
        "\n",
        "        # Calculate Loss: softmax --> cross entropy loss\n",
        "        loss = loss_function(probs, target)\n",
        "        # Accumulating the loss over time\n",
        "        train_loss += loss.item()\n",
        "\n",
        "        # Getting gradients w.r.t. parameters\n",
        "        loss.backward()\n",
        "\n",
        "        # Updating parameters\n",
        "        optimizer.step()\n",
        "    f.write(str((epoch+1)) + \",\" + str(train_loss / len(X_train)))\n",
        "    f.write('\\n')\n",
        "    train_loss = 0\n",
        "\n",
        "f.close()"
      ],
      "execution_count": null,
      "outputs": [
        {
          "output_type": "stream",
          "text": [
            "Epoch completed: 5\n",
            "Epoch completed: 10\n"
          ],
          "name": "stdout"
        }
      ]
    },
    {
      "cell_type": "code",
      "metadata": {
        "colab": {
          "base_uri": "https://localhost:8080/",
          "height": 471
        },
        "id": "l9D3ZXmTmYKx",
        "outputId": "0d733c2d-2cdd-474f-b595-92ee454e4070"
      },
      "source": [
        "from sklearn.metrics import classification_report\n",
        "nn_predictions = []\n",
        "original_lables_ff_bow = []\n",
        "with torch.no_grad():\n",
        "    for index, row in X_test.iterrows():\n",
        "        bow_vec = make_bow_vector(review_dict, row['stemmed_tokens'])\n",
        "        probs = ff_nn_bow_model(bow_vec)\n",
        "        nn_predictions.append(torch.argmax(probs, dim=1).cpu().numpy()[0])\n",
        "        original_lables_ff_bow.append(make_target(Y_test['sentiment'][index]).cpu().numpy()[0])\n",
        "print(classification_report(original_lables_ff_bow,nn_predictions))\n",
        "ffnn_loss_df = pd.read_csv(ffnn_loss_file_name)\n",
        "print(len(ffnn_loss_df))\n",
        "print(ffnn_loss_df.columns)\n",
        "ffnn_plt_500_padding_100_epochs = ffnn_loss_df[' loss'].plot()\n",
        "fig = ffnn_plt_500_padding_100_epochs.get_figure()"
      ],
      "execution_count": null,
      "outputs": [
        {
          "output_type": "stream",
          "text": [
            "              precision    recall  f1-score   support\n",
            "\n",
            "           0       0.81      0.91      0.86       988\n",
            "           1       0.90      0.79      0.84      1012\n",
            "\n",
            "    accuracy                           0.85      2000\n",
            "   macro avg       0.86      0.85      0.85      2000\n",
            "weighted avg       0.86      0.85      0.85      2000\n",
            "\n",
            "10\n",
            "Index(['iter', ' loss'], dtype='object')\n"
          ],
          "name": "stdout"
        },
        {
          "output_type": "display_data",
          "data": {
            "image/png": "[encoded data removed]",
            "text/plain": [
              "<Figure size 432x288 with 1 Axes>"
            ]
          },
          "metadata": {
            "tags": [],
            "needs_background": "light"
          }
        }
      ]
    },
    {
      "cell_type": "code",
      "metadata": {
        "id": "I6YsYcZBpIJO"
      },
      "source": [
        ""
      ],
      "execution_count": null,
      "outputs": []
    },
    {
      "cell_type": "code",
      "metadata": {
        "id": "RT6TO41apILp"
      },
      "source": [
        ""
      ],
      "execution_count": null,
      "outputs": []
    },
    {
      "cell_type": "code",
      "metadata": {
        "id": "iuY9ozKPpIOB"
      },
      "source": [
        ""
      ],
      "execution_count": null,
      "outputs": []
    }
  ]
}
